{
 "cells": [
  {
   "cell_type": "code",
   "execution_count": 1,
   "metadata": {},
   "outputs": [
    {
     "data": {
      "text/html": [
       "<style>.container { width:95% !important; }</style>"
      ],
      "text/plain": [
       "<IPython.core.display.HTML object>"
      ]
     },
     "metadata": {},
     "output_type": "display_data"
    }
   ],
   "source": [
    "from IPython.core.display import display, HTML\n",
    "display(HTML(\"<style>.container { width:95% !important; }</style>\"))"
   ]
  },
  {
   "cell_type": "code",
   "execution_count": 2,
   "metadata": {},
   "outputs": [],
   "source": [
    "import sys\n",
    "import math\n",
    "import random"
   ]
  },
  {
   "cell_type": "code",
   "execution_count": 3,
   "metadata": {},
   "outputs": [
    {
     "name": "stderr",
     "output_type": "stream",
     "text": [
      "<ipython-input-3-5c7b20371341>:2: RuntimeWarning: All debug checks are active, performances are significantly impaired.\n",
      "  import sgx\n"
     ]
    }
   ],
   "source": [
    "sys.path += ['../src']\n",
    "import sgx\n",
    "sgx.logging.set_level(sgx.logging.DEBUG)"
   ]
  },
  {
   "cell_type": "code",
   "execution_count": 4,
   "metadata": {},
   "outputs": [
    {
     "data": {
      "text/plain": [
       "\"⟪'+'/0.1｜'-'/0.1｜'*'/0.8⟫\""
      ]
     },
     "execution_count": 4,
     "metadata": {},
     "output_type": "execute_result"
    }
   ],
   "source": [
    "a = sgx.allele.Categorical(\"+-*\", weights={'*':.8})\n",
    "str(a)"
   ]
  },
  {
   "cell_type": "code",
   "execution_count": 5,
   "metadata": {},
   "outputs": [
    {
     "data": {
      "text/plain": [
       "'+-+*+-+-*-+**-+----++*--+--*+-+--+-+--+*-*+*-*****--*--++*+*-+++--+--**--*++*++**+++**--+*+*+*-+--+*'"
      ]
     },
     "execution_count": 5,
     "metadata": {},
     "output_type": "execute_result"
    }
   ],
   "source": [
    "''.join(a.sample(sample_type='uniform') for _ in range(100))"
   ]
  },
  {
   "cell_type": "code",
   "execution_count": 6,
   "metadata": {},
   "outputs": [
    {
     "data": {
      "text/plain": [
       "'*******-*+*********-************+**********+*******************-***-**+**+**-*******************+***'"
      ]
     },
     "execution_count": 6,
     "metadata": {},
     "output_type": "execute_result"
    }
   ],
   "source": [
    "''.join(a.sample(sample_type='sample') for _ in range(100))"
   ]
  },
  {
   "cell_type": "code",
   "execution_count": 7,
   "metadata": {},
   "outputs": [
    {
     "data": {
      "text/plain": [
       "'****************************************************************************************************'"
      ]
     },
     "execution_count": 7,
     "metadata": {},
     "output_type": "execute_result"
    }
   ],
   "source": [
    "''.join(a.sample(sample_type='mode') for _ in range(100))"
   ]
  },
  {
   "cell_type": "code",
   "execution_count": 8,
   "metadata": {},
   "outputs": [
    {
     "name": "stderr",
     "output_type": "stream",
     "text": [
      "02:24:07 INFO ** ARCHIVE\n",
      "02:24:07 INFO -] ['f', 'o', 'o', '1']:⸨1.0, 2.0, 3.0⸩\n",
      "02:24:07 DEBUG !] including ['f', 'o', 'o', '1']:⸨1.0, 2.0, 3.0⸩\n",
      "02:24:07 INFO ** ARCHIVE\n",
      "02:24:07 INFO -] ['f', 'o', 'o', '2']:⸨1.0, 2.0, 3.0⸩\n",
      "02:24:07 INFO -] ['f', 'o', 'o', '1']:⸨1.0, 2.0, 3.0⸩\n",
      "02:24:07 DEBUG Elements ['f', 'o', 'o', '1'] is already present\n",
      "02:24:07 INFO ** ARCHIVE\n",
      "02:24:07 INFO -] ['f', 'o', 'o', '2']:⸨1.0, 2.0, 3.0⸩\n",
      "02:24:07 INFO -] ['f', 'o', 'o', '1']:⸨1.0, 2.0, 3.0⸩\n",
      "02:24:07 DEBUG Elements ['f', 'o', 'o', '3'] is dominated\n",
      "02:24:07 INFO ** ARCHIVE\n",
      "02:24:07 INFO -] ['f', 'o', 'o', '2']:⸨1.0, 2.0, 3.0⸩\n",
      "02:24:07 INFO -] ['f', 'o', 'o', '1']:⸨1.0, 2.0, 3.0⸩\n",
      "02:24:07 DEBUG !] including ['f', 'o', 'o', '2']:⸨1.0, 2.0, 3.0⸩\n",
      "02:24:07 DEBUG !] including ['f', 'o', 'o', '1']:⸨1.0, 2.0, 3.0⸩\n",
      "02:24:07 INFO ** ARCHIVE\n",
      "02:24:07 INFO -] ['f', 'o', 'o', '2']:⸨1.0, 2.0, 3.0⸩\n",
      "02:24:07 INFO -] ['f', 'o', 'o', '1']:⸨1.0, 2.0, 3.0⸩\n",
      "02:24:07 INFO -] ['f', 'o', 'o', '4']:⸨1.0, 1.0, 4.0⸩\n",
      "02:24:07 DEBUG x] discarding ['f', 'o', 'o', '2']:⸨1.0, 2.0, 3.0⸩\n",
      "02:24:07 DEBUG x] discarding ['f', 'o', 'o', '1']:⸨1.0, 2.0, 3.0⸩\n",
      "02:24:07 DEBUG x] discarding ['f', 'o', 'o', '4']:⸨1.0, 1.0, 4.0⸩\n",
      "02:24:07 INFO ** ARCHIVE\n",
      "02:24:07 INFO -] ['f', 'o', 'o', '5']:⸨5.0, 5.0, 5.0⸩\n"
     ]
    }
   ],
   "source": [
    "archive = sgx.archive.Archive()\n",
    "archive.add(genotype=sgx.t.Genotype(\"foo1\"), fitness=sgx.fitness.Lexicase([1, 2, 3]))\n",
    "archive.add(genotype=sgx.t.Genotype(\"foo2\"), fitness=sgx.fitness.Lexicase([1, 2, 3]))\n",
    "archive.add(genotype=sgx.t.Genotype(\"foo1\"), fitness=sgx.fitness.Lexicase([1, 2, 3]))\n",
    "archive.add(genotype=sgx.t.Genotype(\"foo3\"), fitness=sgx.fitness.Lexicase([0, 1, 2]))\n",
    "archive.add(genotype=sgx.t.Genotype(\"foo4\"), fitness=sgx.fitness.Lexicase([1, 1, 4]))\n",
    "archive.add(genotype=sgx.t.Genotype(\"foo5\"), fitness=sgx.fitness.Lexicase([5, 5, 5]))"
   ]
  },
  {
   "cell_type": "code",
   "execution_count": 9,
   "metadata": {},
   "outputs": [
    {
     "data": {
      "text/plain": [
       "True"
      ]
     },
     "execution_count": 9,
     "metadata": {},
     "output_type": "execute_result"
    }
   ],
   "source": [
    "f1 = sgx.fitness.Lexicase([1, 2, 3])\n",
    "f2 = sgx.fitness.Lexicase([1, 2, 3])\n",
    "hash(f1) == hash(f2)"
   ]
  },
  {
   "cell_type": "code",
   "execution_count": 10,
   "metadata": {},
   "outputs": [
    {
     "data": {
      "text/plain": [
       "True"
      ]
     },
     "execution_count": 10,
     "metadata": {},
     "output_type": "execute_result"
    }
   ],
   "source": [
    "g1 = sgx.t.Genotype(\"foo1\")\n",
    "g2 = sgx.t.Genotype(\"foo1\")\n",
    "hash(g1) == hash(g2)"
   ]
  },
  {
   "cell_type": "code",
   "execution_count": 11,
   "metadata": {},
   "outputs": [
    {
     "data": {
      "text/plain": [
       "Element(genotype=<sgx.base.Genotype object at 0x0000020CFDCB2DC0>, fitness=<sgx.fitness.multi_objective.Lexicase object at 0x0000020CFDCA3130>)"
      ]
     },
     "execution_count": 11,
     "metadata": {},
     "output_type": "execute_result"
    }
   ],
   "source": [
    "sgx.archive.Archive.Element(g1, f1)"
   ]
  },
  {
   "cell_type": "code",
   "execution_count": 12,
   "metadata": {},
   "outputs": [
    {
     "data": {
      "text/plain": [
       "Element(genotype=<sgx.base.Genotype object at 0x0000020CFDCB2CA0>, fitness=<sgx.fitness.multi_objective.Lexicase object at 0x0000020CFDCA33A0>)"
      ]
     },
     "execution_count": 12,
     "metadata": {},
     "output_type": "execute_result"
    }
   ],
   "source": [
    "sgx.archive.Archive.Element(g2, f2)"
   ]
  },
  {
   "cell_type": "code",
   "execution_count": 13,
   "metadata": {},
   "outputs": [
    {
     "data": {
      "text/plain": [
       "-1812290720650264724"
      ]
     },
     "execution_count": 13,
     "metadata": {},
     "output_type": "execute_result"
    }
   ],
   "source": [
    "hash((g1, f1))"
   ]
  },
  {
   "cell_type": "code",
   "execution_count": 14,
   "metadata": {},
   "outputs": [
    {
     "data": {
      "text/plain": [
       "-1812290720650264724"
      ]
     },
     "execution_count": 14,
     "metadata": {},
     "output_type": "execute_result"
    }
   ],
   "source": [
    "hash((g1, f1))"
   ]
  },
  {
   "cell_type": "code",
   "execution_count": 15,
   "metadata": {},
   "outputs": [
    {
     "data": {
      "text/plain": [
       "True"
      ]
     },
     "execution_count": 15,
     "metadata": {},
     "output_type": "execute_result"
    }
   ],
   "source": [
    "hash(g1) == hash(g2)"
   ]
  },
  {
   "cell_type": "code",
   "execution_count": 16,
   "metadata": {},
   "outputs": [
    {
     "data": {
      "text/plain": [
       "True"
      ]
     },
     "execution_count": 16,
     "metadata": {},
     "output_type": "execute_result"
    }
   ],
   "source": [
    "hash(tuple((10, 23))) == hash(tuple((10, 23)))"
   ]
  },
  {
   "cell_type": "code",
   "execution_count": 19,
   "metadata": {},
   "outputs": [
    {
     "name": "stderr",
     "output_type": "stream",
     "text": [
      "02:25:27 INFO ** ARCHIVE\n",
      "02:25:27 INFO -] ['f', 'o', 'o', '1']:⸨10.0⸩\n",
      "02:25:27 DEBUG !] including ['f', 'o', 'o', '1']:⸨10.0⸩\n",
      "02:25:27 INFO ** ARCHIVE\n",
      "02:25:27 INFO -] ['f', 'o', 'o', '2']:⸨10.0⸩\n",
      "02:25:27 INFO -] ['f', 'o', 'o', '1']:⸨10.0⸩\n",
      "02:25:27 DEBUG !] including ['f', 'o', 'o', '2']:⸨10.0⸩\n",
      "02:25:27 DEBUG !] including ['f', 'o', 'o', '1']:⸨10.0⸩\n",
      "02:25:27 INFO ** ARCHIVE\n",
      "02:25:27 INFO -] ['f', 'o', 'o', '1']:⸨10.0⸩\n",
      "02:25:27 INFO -] ['f', 'o', 'o', '2']:⸨10.0⸩\n",
      "02:25:27 INFO -] ['f', 'o', 'o', '3']:⸨10.0⸩\n",
      "02:25:27 DEBUG !] including ['f', 'o', 'o', '1']:⸨10.0⸩\n",
      "02:25:27 DEBUG !] including ['f', 'o', 'o', '2']:⸨10.0⸩\n",
      "02:25:27 DEBUG !] including ['f', 'o', 'o', '3']:⸨10.0⸩\n",
      "02:25:27 INFO ** ARCHIVE\n",
      "02:25:27 INFO -] ['f', 'o', 'o', '3']:⸨10.0⸩\n",
      "02:25:27 INFO -] ['f', 'o', 'o', '2']:⸨10.0⸩\n",
      "02:25:27 INFO -] ['f', 'o', 'o', '4']:⸨10.0⸩\n",
      "02:25:27 INFO -] ['f', 'o', 'o', '1']:⸨10.0⸩\n",
      "02:25:27 DEBUG Elements ['f', 'o', 'o', '2'] is already present\n",
      "02:25:27 INFO ** ARCHIVE\n",
      "02:25:27 INFO -] ['f', 'o', 'o', '3']:⸨10.0⸩\n",
      "02:25:27 INFO -] ['f', 'o', 'o', '2']:⸨10.0⸩\n",
      "02:25:27 INFO -] ['f', 'o', 'o', '4']:⸨10.0⸩\n",
      "02:25:27 INFO -] ['f', 'o', 'o', '1']:⸨10.0⸩\n",
      "02:25:27 DEBUG x] discarding ['f', 'o', 'o', '3']:⸨10.0⸩\n",
      "02:25:27 DEBUG x] discarding ['f', 'o', 'o', '2']:⸨10.0⸩\n",
      "02:25:27 DEBUG x] discarding ['f', 'o', 'o', '4']:⸨10.0⸩\n",
      "02:25:27 DEBUG x] discarding ['f', 'o', 'o', '1']:⸨10.0⸩\n",
      "02:25:27 INFO ** ARCHIVE\n",
      "02:25:27 INFO -] ['f', 'o', 'o', '2']:⸨11.0⸩\n"
     ]
    }
   ],
   "source": [
    "archive = sgx.archive.Archive()\n",
    "archive.add(genotype=sgx.t.Genotype(\"foo1\"), fitness=sgx.fitness.Scalar(10))\n",
    "archive.add(genotype=sgx.t.Genotype(\"foo2\"), fitness=sgx.fitness.Scalar(10))\n",
    "archive.add(genotype=sgx.t.Genotype(\"foo3\"), fitness=sgx.fitness.Scalar(10))\n",
    "archive.add(genotype=sgx.t.Genotype(\"foo4\"), fitness=sgx.fitness.Scalar(10))\n",
    "archive.add(genotype=sgx.t.Genotype(\"foo2\"), fitness=sgx.fitness.Scalar(10))\n",
    "archive.add(genotype=sgx.t.Genotype(\"foo2\"), fitness=sgx.fitness.Scalar(11))\n"
   ]
  },
  {
   "cell_type": "code",
   "execution_count": null,
   "metadata": {},
   "outputs": [],
   "source": []
  }
 ],
 "metadata": {
  "kernelspec": {
   "display_name": "Python 3",
   "language": "python",
   "name": "python3"
  },
  "language_info": {
   "codemirror_mode": {
    "name": "ipython",
    "version": 3
   },
   "file_extension": ".py",
   "mimetype": "text/x-python",
   "name": "python",
   "nbconvert_exporter": "python",
   "pygments_lexer": "ipython3",
   "version": "3.8.5"
  }
 },
 "nbformat": 4,
 "nbformat_minor": 4
}
