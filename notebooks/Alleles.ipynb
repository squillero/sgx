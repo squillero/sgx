{
 "cells": [
  {
   "cell_type": "code",
   "execution_count": 1,
   "metadata": {},
   "outputs": [
    {
     "data": {
      "text/html": [
       "<style>.container { width:95% !important; }</style>"
      ],
      "text/plain": [
       "<IPython.core.display.HTML object>"
      ]
     },
     "metadata": {},
     "output_type": "display_data"
    }
   ],
   "source": [
    "from IPython.core.display import display, HTML\n",
    "display(HTML(\"<style>.container { width:95% !important; }</style>\"))"
   ]
  },
  {
   "cell_type": "code",
   "execution_count": 2,
   "metadata": {},
   "outputs": [],
   "source": [
    "import sys\n",
    "import math\n",
    "import random"
   ]
  },
  {
   "cell_type": "code",
   "execution_count": 3,
   "metadata": {},
   "outputs": [
    {
     "name": "stderr",
     "output_type": "stream",
     "text": [
      "<ipython-input-3-5c7b20371341>:2: RuntimeWarning: All debug checks are active, performances are significantly impaired.\n",
      "  import sgx\n"
     ]
    }
   ],
   "source": [
    "sys.path += ['../src']\n",
    "import sgx\n",
    "sgx.logging.set_level(sgx.logging.DEBUG)"
   ]
  },
  {
   "cell_type": "code",
   "execution_count": 4,
   "metadata": {},
   "outputs": [
    {
     "data": {
      "text/plain": [
       "\"⟪'+'/0.1｜'-'/0.1｜'*'/0.8⟫\""
      ]
     },
     "execution_count": 4,
     "metadata": {},
     "output_type": "execute_result"
    }
   ],
   "source": [
    "a = sgx.allele.Categorical(\"+-*\", weights={'*':.8})\n",
    "str(a)"
   ]
  },
  {
   "cell_type": "code",
   "execution_count": 5,
   "metadata": {},
   "outputs": [
    {
     "data": {
      "text/plain": [
       "'****+--*-+++----+**----**+-**+-*-*+-***+---++++---++**+--*++*+*+**+--++**-+-**+*+-+-++-+--++*-*-*--*'"
      ]
     },
     "execution_count": 5,
     "metadata": {},
     "output_type": "execute_result"
    }
   ],
   "source": [
    "''.join(a.sample(sample_type='uniform') for _ in range(100))"
   ]
  },
  {
   "cell_type": "code",
   "execution_count": 6,
   "metadata": {},
   "outputs": [
    {
     "data": {
      "text/plain": [
       "'**-***-*-**********-**+++*-+*****+***-***********++******+**+*****-***-**-**+**--***************+***'"
      ]
     },
     "execution_count": 6,
     "metadata": {},
     "output_type": "execute_result"
    }
   ],
   "source": [
    "''.join(a.sample(sample_type='sample') for _ in range(100))"
   ]
  },
  {
   "cell_type": "code",
   "execution_count": 7,
   "metadata": {},
   "outputs": [
    {
     "data": {
      "text/plain": [
       "'****************************************************************************************************'"
      ]
     },
     "execution_count": 7,
     "metadata": {},
     "output_type": "execute_result"
    }
   ],
   "source": [
    "''.join(a.sample(sample_type='mode') for _ in range(100))"
   ]
  },
  {
   "cell_type": "code",
   "execution_count": 12,
   "metadata": {},
   "outputs": [
    {
     "data": {
      "text/plain": [
       "True"
      ]
     },
     "execution_count": 12,
     "metadata": {},
     "output_type": "execute_result"
    }
   ],
   "source": [
    "archive = sgx.archive.Archive()\n",
    "archive.add(genotype=sgx.t.Genotype(\"foo1\"), fitness=sgx.fitness.Lexicase([1, 2, 3]))\n",
    "archive.add(genotype=sgx.t.Genotype(\"foo2\"), fitness=sgx.fitness.Lexicase([1, 2, 3]))\n",
    "archive.add(genotype=sgx.t.Genotype(\"foo1\"), fitness=sgx.fitness.Lexicase([1, 2, 3]))\n",
    "archive.add(genotype=sgx.t.Genotype(\"foo3\"), fitness=sgx.fitness.Lexicase([0, 1, 2]))\n",
    "archive.add(genotype=sgx.t.Genotype(\"foo4\"), fitness=sgx.fitness.Lexicase([1, 1, 4]))\n",
    "archive.add(genotype=sgx.t.Genotype(\"foo5\"), fitness=sgx.fitness.Lexicase([5, 5, 5]))"
   ]
  },
  {
   "cell_type": "code",
   "execution_count": 13,
   "metadata": {},
   "outputs": [
    {
     "data": {
      "text/plain": [
       "Element(genotype=<sgx.base.Genotype object at 0x0000021A71C74700>, fitness=<sgx.fitness.multi_objective.Lexicase object at 0x0000021A71D76760>)"
      ]
     },
     "execution_count": 13,
     "metadata": {},
     "output_type": "execute_result"
    }
   ],
   "source": [
    "next(iter(archive))"
   ]
  },
  {
   "cell_type": "code",
   "execution_count": 9,
   "metadata": {},
   "outputs": [
    {
     "name": "stdout",
     "output_type": "stream",
     "text": [
      "Element(genotype=<sgx.base.Genotype object at 0x0000021A71D49B20>, fitness=<sgx.fitness.multi_objective.Lexicase object at 0x0000021A71D76A90>)\n"
     ]
    }
   ],
   "source": [
    "for x in archive:\n",
    "    print(x)"
   ]
  },
  {
   "cell_type": "code",
   "execution_count": 10,
   "metadata": {},
   "outputs": [
    {
     "data": {
      "text/plain": [
       "True"
      ]
     },
     "execution_count": 10,
     "metadata": {},
     "output_type": "execute_result"
    }
   ],
   "source": [
    "archive = sgx.archive.Archive()\n",
    "archive.add(genotype=sgx.t.Genotype(\"foo1\"), fitness=sgx.fitness.Scalar(10))\n",
    "archive.add(genotype=sgx.t.Genotype(\"foo2\"), fitness=sgx.fitness.Scalar(10))\n",
    "archive.add(genotype=sgx.t.Genotype(\"foo3\"), fitness=sgx.fitness.Scalar(10))\n",
    "archive.add(genotype=sgx.t.Genotype(\"foo4\"), fitness=sgx.fitness.Scalar(10))\n",
    "archive.add(genotype=sgx.t.Genotype(\"foo2\"), fitness=sgx.fitness.Scalar(10))\n",
    "archive.add(genotype=sgx.t.Genotype(\"foo2\"), fitness=sgx.fitness.Scalar(11))\n"
   ]
  },
  {
   "cell_type": "code",
   "execution_count": 11,
   "metadata": {},
   "outputs": [
    {
     "name": "stdout",
     "output_type": "stream",
     "text": [
      "Element(genotype=<sgx.base.Genotype object at 0x0000021A71D49E80>, fitness=11.0)\n"
     ]
    }
   ],
   "source": [
    "for x in archive:\n",
    "    print(x)"
   ]
  },
  {
   "cell_type": "code",
   "execution_count": null,
   "metadata": {},
   "outputs": [],
   "source": []
  }
 ],
 "metadata": {
  "kernelspec": {
   "display_name": "Python 3",
   "language": "python",
   "name": "python3"
  },
  "language_info": {
   "codemirror_mode": {
    "name": "ipython",
    "version": 3
   },
   "file_extension": ".py",
   "mimetype": "text/x-python",
   "name": "python",
   "nbconvert_exporter": "python",
   "pygments_lexer": "ipython3",
   "version": "3.8.5"
  }
 },
 "nbformat": 4,
 "nbformat_minor": 4
}
