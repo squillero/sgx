{
 "cells": [
  {
   "cell_type": "code",
   "execution_count": 7,
   "metadata": {},
   "outputs": [
    {
     "data": {
      "text/html": [
       "<style>.container { width:95% !important; }</style>"
      ],
      "text/plain": [
       "<IPython.core.display.HTML object>"
      ]
     },
     "metadata": {},
     "output_type": "display_data"
    }
   ],
   "source": [
    "from IPython.core.display import display, HTML\n",
    "display(HTML(\"<style>.container { width:95% !important; }</style>\"))"
   ]
  },
  {
   "cell_type": "code",
   "execution_count": 18,
   "metadata": {},
   "outputs": [],
   "source": [
    "import sys\n",
    "import math\n",
    "from random import shuffle\n",
    "import matplotlib.pyplot as plt"
   ]
  },
  {
   "cell_type": "code",
   "execution_count": 42,
   "metadata": {},
   "outputs": [],
   "source": [
    "sys.path += ['../src']\n",
    "import sgx\n",
    "sgx.logging.set_level(sgx.logging.DEBUG)"
   ]
  },
  {
   "cell_type": "markdown",
   "metadata": {},
   "source": [
    "## 1 Max"
   ]
  },
  {
   "cell_type": "code",
   "execution_count": 43,
   "metadata": {},
   "outputs": [],
   "source": [
    "PROBLEM_SIZE = 50"
   ]
  },
  {
   "cell_type": "code",
   "execution_count": 47,
   "metadata": {
    "scrolled": false
   },
   "outputs": [
    {
     "data": {
      "application/vnd.jupyter.widget-view+json": {
       "model_id": "ccbb4501f50c4e59ab73d2ba3fab0c09",
       "version_major": 2,
       "version_minor": 0
      },
      "text/plain": [
       "HBox(children=(HTML(value=''), FloatProgress(value=0.0, max=10.0), HTML(value='')))"
      ]
     },
     "metadata": {},
     "output_type": "display_data"
    },
    {
     "name": "stderr",
     "output_type": "stream",
     "text": [
      "17:43:27 DEBUG ** ARCHIVE AT GENERATION 1 -- SIZE: 1\n",
      "17:43:27 DEBUG -] 10011010111100001110110000001001111000001011000011:⸨23.0⸩\n",
      "17:43:27 DEBUG ** ARCHIVE AT GENERATION 2 -- SIZE: 1\n",
      "17:43:27 DEBUG -] 10101000010011111101101100100110001110110010011010:⸨26.0⸩\n",
      "17:43:27 DEBUG ** ARCHIVE AT GENERATION 3 -- SIZE: 2\n",
      "17:43:27 DEBUG -] 10101110101100100000101100101100110011111111000001:⸨26.0⸩\n",
      "17:43:27 DEBUG -] 10101000010011111101101100100110001110110010011010:⸨26.0⸩\n",
      "17:43:27 DEBUG ** ARCHIVE AT GENERATION 5 -- SIZE: 1\n",
      "17:43:27 DEBUG -] 10110011101010100010111000111111100100111011111100:⸨30.0⸩\n",
      "17:43:27 DEBUG ** ARCHIVE AT GENERATION 8 -- SIZE: 1\n",
      "17:43:27 DEBUG -] 10011111111110001111010011001101111111100010100010:⸨31.0⸩\n",
      "17:43:27 DEBUG ** ARCHIVE AT GENERATION 10 -- SIZE: 1\n",
      "17:43:27 DEBUG -] 11101001111111110111111100110101001111000001111111:⸨35.0⸩\n"
     ]
    },
    {
     "name": "stdout",
     "output_type": "stream",
     "text": [
      "\n"
     ]
    }
   ],
   "source": [
    "genome = sgx.t.Genome([sgx.allele.Categorical(\"01\")] * PROBLEM_SIZE)\n",
    "fitness_function = sgx.fitness.FitnessFunction(lambda i: i.count('1'),\n",
    "                                               best_fitness=len(genome),\n",
    "                                               type_=sgx.fitness.Scalar)\n",
    "species = sgx.t.Species(genome=genome, fitness_function=fitness_function)\n",
    "archive = sgx.algorithms.sg(species, max_generation=10)"
   ]
  },
  {
   "cell_type": "code",
   "execution_count": 40,
   "metadata": {},
   "outputs": [
    {
     "data": {
      "text/plain": [
       "['aXbbaa1bXa0X0aXXXXa1XXbb11XaabXbXaXXX0bXXbX11XbXXX00X1abXXXX1XaX0bXXa01X11X0aXXXbbX10X0Xa0XaX10XbXbX']"
      ]
     },
     "execution_count": 40,
     "metadata": {},
     "output_type": "execute_result"
    }
   ],
   "source": [
    "[genome.genotype_to_str(e.genotype) for e in archive]"
   ]
  },
  {
   "cell_type": "code",
   "execution_count": 41,
   "metadata": {},
   "outputs": [
    {
     "data": {
      "text/plain": [
       "1"
      ]
     },
     "execution_count": 41,
     "metadata": {},
     "output_type": "execute_result"
    }
   ],
   "source": [
    "len(archive)"
   ]
  },
  {
   "cell_type": "code",
   "execution_count": null,
   "metadata": {},
   "outputs": [],
   "source": []
  }
 ],
 "metadata": {
  "kernelspec": {
   "display_name": "Python 3",
   "language": "python",
   "name": "python3"
  },
  "language_info": {
   "codemirror_mode": {
    "name": "ipython",
    "version": 3
   },
   "file_extension": ".py",
   "mimetype": "text/x-python",
   "name": "python",
   "nbconvert_exporter": "python",
   "pygments_lexer": "ipython3",
   "version": "3.8.5"
  }
 },
 "nbformat": 4,
 "nbformat_minor": 4
}
