{
 "cells": [
  {
   "cell_type": "code",
   "execution_count": 1,
   "metadata": {},
   "outputs": [
    {
     "data": {
      "text/html": [
       "<style>.container { width:95% !important; }</style>"
      ],
      "text/plain": [
       "<IPython.core.display.HTML object>"
      ]
     },
     "metadata": {},
     "output_type": "display_data"
    }
   ],
   "source": [
    "from IPython.core.display import display, HTML\n",
    "display(HTML(\"<style>.container { width:95% !important; }</style>\"))"
   ]
  },
  {
   "cell_type": "code",
   "execution_count": 2,
   "metadata": {},
   "outputs": [],
   "source": [
    "import sys\n",
    "import math\n",
    "import random"
   ]
  },
  {
   "cell_type": "code",
   "execution_count": 3,
   "metadata": {},
   "outputs": [
    {
     "name": "stderr",
     "output_type": "stream",
     "text": [
      "<ipython-input-3-e6d25e84189a>:2: RuntimeWarning: All debug checks are active, performances are significantly impaired.\n",
      "  import sgx\n"
     ]
    }
   ],
   "source": [
    "sys.path += ['../src']\n",
    "import sgx"
   ]
  },
  {
   "cell_type": "code",
   "execution_count": 4,
   "metadata": {},
   "outputs": [
    {
     "name": "stdout",
     "output_type": "stream",
     "text": [
      "⸨23.0≈⸩ == ⸨23.01≈⸩: False\n"
     ]
    }
   ],
   "source": [
    "f1 = sgx.fitness.Approximate(23)\n",
    "f2 = sgx.fitness.Approximate(23.01)\n",
    "\n",
    "print(f\"{f1} == {f2}: {f1 == f2}\")\n"
   ]
  },
  {
   "cell_type": "code",
   "execution_count": 5,
   "metadata": {},
   "outputs": [
    {
     "name": "stdout",
     "output_type": "stream",
     "text": [
      "⸨23.0≈,10.0≈⸩ == ⸨23.0≈,9.99≈⸩: True\n",
      "⸨23.0≈,10.0≈⸩ != ⸨23.0≈,9.99≈⸩: False\n",
      "⸨23.0≈,10.0≈⸩ > ⸨23.0≈,9.99≈⸩ : False\n",
      "⸨23.0≈,10.0≈⸩ >> ⸨23.0≈,9.99≈⸩: False\n"
     ]
    }
   ],
   "source": [
    "f1 = sgx.fitness.Vector([23, 10], fitness_type=sgx.fitness.Approximate, abs_tol=.1)\n",
    "f2 = sgx.fitness.Vector([23, 9.99], fitness_type=sgx.fitness.Approximate, abs_tol=.1)\n",
    "print(f\"{f1} == {f2}: {f1 == f2}\")\n",
    "print(f\"{f1} != {f2}: {f1 != f2}\")\n",
    "print(f\"{f1} > {f2} : {f1 > f2}\")\n",
    "print(f\"{f1} >> {f2}: {f1 >> f2}\")"
   ]
  },
  {
   "cell_type": "code",
   "execution_count": 7,
   "metadata": {},
   "outputs": [
    {
     "name": "stdout",
     "output_type": "stream",
     "text": [
      "⸨10.0≈,2.0≈,30.0≈,4.0≈,50.0≈,6.0≈⸩ == ⸨1.0≈,20.0≈,3.0≈,40.0≈,5.0≈,60.0≈⸩: True\n",
      "⸨10.0≈,2.0≈,30.0≈,4.0≈,50.0≈,6.0≈⸩ != ⸨1.0≈,20.0≈,3.0≈,40.0≈,5.0≈,60.0≈⸩: False\n",
      "⸨10.0≈,2.0≈,30.0≈,4.0≈,50.0≈,6.0≈⸩ >> ⸨1.0≈,20.0≈,3.0≈,40.0≈,5.0≈,60.0≈⸩: False\n",
      "\n",
      "⸨10.0≈,2.0≈,30.0≈,4.0≈,50.0≈,6.0≈⸩ > ⸨1.0≈,20.0≈,3.0≈,40.0≈,5.0≈,60.0≈⸩ : False\n",
      "⸨10.0≈,2.0≈,30.0≈,4.0≈,50.0≈,6.0≈⸩ > ⸨1.0≈,20.0≈,3.0≈,40.0≈,5.0≈,60.0≈⸩ : False\n",
      "⸨10.0≈,2.0≈,30.0≈,4.0≈,50.0≈,6.0≈⸩ > ⸨1.0≈,20.0≈,3.0≈,40.0≈,5.0≈,60.0≈⸩ : False\n",
      "⸨10.0≈,2.0≈,30.0≈,4.0≈,50.0≈,6.0≈⸩ > ⸨1.0≈,20.0≈,3.0≈,40.0≈,5.0≈,60.0≈⸩ : False\n",
      "⸨10.0≈,2.0≈,30.0≈,4.0≈,50.0≈,6.0≈⸩ > ⸨1.0≈,20.0≈,3.0≈,40.0≈,5.0≈,60.0≈⸩ : False\n",
      "⸨10.0≈,2.0≈,30.0≈,4.0≈,50.0≈,6.0≈⸩ > ⸨1.0≈,20.0≈,3.0≈,40.0≈,5.0≈,60.0≈⸩ : False\n",
      "⸨10.0≈,2.0≈,30.0≈,4.0≈,50.0≈,6.0≈⸩ > ⸨1.0≈,20.0≈,3.0≈,40.0≈,5.0≈,60.0≈⸩ : False\n",
      "⸨10.0≈,2.0≈,30.0≈,4.0≈,50.0≈,6.0≈⸩ > ⸨1.0≈,20.0≈,3.0≈,40.0≈,5.0≈,60.0≈⸩ : False\n",
      "⸨10.0≈,2.0≈,30.0≈,4.0≈,50.0≈,6.0≈⸩ > ⸨1.0≈,20.0≈,3.0≈,40.0≈,5.0≈,60.0≈⸩ : False\n",
      "⸨10.0≈,2.0≈,30.0≈,4.0≈,50.0≈,6.0≈⸩ > ⸨1.0≈,20.0≈,3.0≈,40.0≈,5.0≈,60.0≈⸩ : False\n"
     ]
    }
   ],
   "source": [
    "sgx.logging.set_level(sgx.logging.INFO)\n",
    "\n",
    "f1 = sgx.fitness.Lexicase([10,  2, 30,  4, 50,  6], fitness_type=sgx.fitness.Approximate, abs_tol=1e10)\n",
    "f2 = sgx.fitness.Lexicase([ 1, 20,  3, 40,  5, 60], fitness_type=sgx.fitness.Approximate, abs_tol=1e10)\n",
    "print(f\"{f1} == {f2}: {f1 == f2}\")\n",
    "print(f\"{f1} != {f2}: {f1 != f2}\")\n",
    "print(f\"{f1} >> {f2}: {f1 >> f2}\")\n",
    "print()\n",
    "for _ in range (10):\n",
    "    r = f1 > f2\n",
    "    print(f\"{f1} > {f2} : {r}\")"
   ]
  },
  {
   "cell_type": "code",
   "execution_count": null,
   "metadata": {},
   "outputs": [],
   "source": []
  }
 ],
 "metadata": {
  "kernelspec": {
   "display_name": "Python 3",
   "language": "python",
   "name": "python3"
  },
  "language_info": {
   "codemirror_mode": {
    "name": "ipython",
    "version": 3
   },
   "file_extension": ".py",
   "mimetype": "text/x-python",
   "name": "python",
   "nbconvert_exporter": "python",
   "pygments_lexer": "ipython3",
   "version": "3.8.5"
  }
 },
 "nbformat": 4,
 "nbformat_minor": 4
}
