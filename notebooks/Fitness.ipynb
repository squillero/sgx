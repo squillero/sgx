{
 "cells": [
  {
   "cell_type": "code",
   "execution_count": 1,
   "metadata": {},
   "outputs": [],
   "source": [
    "import sys\n",
    "import math"
   ]
  },
  {
   "cell_type": "code",
   "execution_count": 2,
   "metadata": {},
   "outputs": [
    {
     "name": "stderr",
     "output_type": "stream",
     "text": [
      "<ipython-input-2-e6d25e84189a>:2: RuntimeWarning: All debug checks are active, performances are significantly impaired.\n",
      "  import sgx\n"
     ]
    }
   ],
   "source": [
    "sys.path += ['../src']\n",
    "import sgx"
   ]
  },
  {
   "cell_type": "code",
   "execution_count": 3,
   "metadata": {},
   "outputs": [
    {
     "name": "stderr",
     "output_type": "stream",
     "text": [
      "15:02:22 DEBUG __eq__\n",
      "15:02:22 DEBUG __ne__\n",
      "15:02:22 DEBUG __eq__\n",
      "15:02:22 DEBUG __gt__\n",
      "15:02:22 DEBUG __lt__\n",
      "15:02:22 DEBUG __gt__\n",
      "15:02:22 DEBUG __gt__\n",
      "15:02:22 DEBUG __lt__\n",
      "15:02:22 DEBUG __gt__\n"
     ]
    },
    {
     "name": "stdout",
     "output_type": "stream",
     "text": [
      "<f:90.0> == <f:42.0>: False\n",
      "<f:90.0> != <f:42.0>: True\n",
      "<f:90.0> > <f:42.0> : True\n",
      "<f:90.0> < <f:42.0> : False\n",
      "<f:90.0> >> <f:42.0>: True\n",
      "<f:90.0> << <f:42.0>: False\n"
     ]
    }
   ],
   "source": [
    "f1 = sgx.fitness.Scalar(90)\n",
    "f2 = sgx.fitness.Scalar(42)\n",
    "print(f\"{f1} == {f2}: {f1 == f2}\")\n",
    "print(f\"{f1} != {f2}: {f1 != f2}\")\n",
    "print(f\"{f1} > {f2} : {f1 > f2}\")\n",
    "print(f\"{f1} < {f2} : {f1 < f2}\")\n",
    "print(f\"{f1} >> {f2}: {f1 >> f2}\")\n",
    "print(f\"{f1} << {f2}: {f1 << f2}\")"
   ]
  },
  {
   "cell_type": "code",
   "execution_count": 4,
   "metadata": {},
   "outputs": [
    {
     "name": "stderr",
     "output_type": "stream",
     "text": [
      "15:02:22 DEBUG __eq__\n",
      "15:02:22 DEBUG __ne__\n",
      "15:02:22 DEBUG __eq__\n",
      "15:02:22 DEBUG __gt__\n",
      "15:02:22 DEBUG __lt__\n",
      "15:02:22 DEBUG __gt__\n",
      "15:02:22 DEBUG __eq__\n",
      "15:02:22 DEBUG __gt__\n",
      "15:02:22 DEBUG __lt__\n",
      "15:02:22 DEBUG __gt__\n",
      "15:02:22 DEBUG __eq__\n"
     ]
    },
    {
     "name": "stdout",
     "output_type": "stream",
     "text": [
      "<f:(23, 10)> == <f:(23, 11)>: False\n",
      "<f:(23, 10)> != <f:(23, 11)>: True\n",
      "<f:(23, 10)> > <f:(23, 11)> : False\n",
      "<f:(23, 10)> < <f:(23, 11)> : True\n",
      "<f:(23, 10)> >> <f:(23, 11)>: False\n",
      "<f:(23, 10)> << <f:(23, 11)>: True\n"
     ]
    }
   ],
   "source": [
    "f1 = sgx.fitness.Vector([23, 10])\n",
    "f2 = sgx.fitness.Vector([23, 11])\n",
    "print(f\"{f1} == {f2}: {f1 == f2}\")\n",
    "print(f\"{f1} != {f2}: {f1 != f2}\")\n",
    "print(f\"{f1} > {f2} : {f1 > f2}\")\n",
    "print(f\"{f1} < {f2} : {f1 < f2}\")\n",
    "print(f\"{f1} >> {f2}: {f1 >> f2}\")\n",
    "print(f\"{f1} << {f2}: {f1 << f2}\")"
   ]
  },
  {
   "cell_type": "code",
   "execution_count": 5,
   "metadata": {},
   "outputs": [
    {
     "name": "stderr",
     "output_type": "stream",
     "text": [
      "15:02:22 DEBUG __eq__\n",
      "15:02:22 DEBUG __ne__\n",
      "15:02:22 DEBUG __eq__\n",
      "15:02:22 DEBUG __lt__\n",
      "15:02:22 DEBUG __gt__\n",
      "15:02:22 DEBUG __lt__\n",
      "15:02:22 DEBUG __lt__\n",
      "15:02:22 DEBUG __gt__\n",
      "15:02:22 DEBUG __eq__\n",
      "15:02:22 DEBUG __lt__\n",
      "15:02:22 DEBUG __gt__\n",
      "15:02:22 DEBUG __gt__\n"
     ]
    },
    {
     "name": "stdout",
     "output_type": "stream",
     "text": [
      "<f:23.0> == <f:10.0>: False\n",
      "<f:23.0> != <f:10.0>: True\n",
      "<f:23.0> > <f:10.0> : False\n",
      "<f:23.0> < <f:10.0> : True\n",
      "<f:23.0> >> <f:10.0>: False\n",
      "<f:23.0> << <f:10.0>: True\n"
     ]
    }
   ],
   "source": [
    "new_class = sgx.fitness.reversed(sgx.fitness.Scalar)\n",
    "f1 = new_class(23)\n",
    "f2 = new_class(10)\n",
    "print(f\"{f1} == {f2}: {f1 == f2}\")\n",
    "print(f\"{f1} != {f2}: {f1 != f2}\")\n",
    "print(f\"{f1} > {f2} : {f1 > f2}\")\n",
    "print(f\"{f1} < {f2} : {f1 < f2}\")\n",
    "print(f\"{f1} >> {f2}: {f1 >> f2}\")\n",
    "print(f\"{f1} << {f2}: {f1 << f2}\")"
   ]
  },
  {
   "cell_type": "code",
   "execution_count": 7,
   "metadata": {},
   "outputs": [
    {
     "ename": "AssertionError",
     "evalue": "Only <class 'sgx.t.Fitness'> can be reversed. Found an object of type <class 'int'>.",
     "output_type": "error",
     "traceback": [
      "\u001b[1;31m---------------------------------------------------------------------------\u001b[0m",
      "\u001b[1;31mAssertionError\u001b[0m                            Traceback (most recent call last)",
      "\u001b[1;32m<ipython-input-7-a9cd8f95cb77>\u001b[0m in \u001b[0;36m<module>\u001b[1;34m\u001b[0m\n\u001b[1;32m----> 1\u001b[1;33m \u001b[0msgx\u001b[0m\u001b[1;33m.\u001b[0m\u001b[0mfitness\u001b[0m\u001b[1;33m.\u001b[0m\u001b[0mreversed\u001b[0m\u001b[1;33m(\u001b[0m\u001b[1;36m23\u001b[0m\u001b[1;33m)\u001b[0m\u001b[1;33m\u001b[0m\u001b[1;33m\u001b[0m\u001b[0m\n\u001b[0m",
      "\u001b[1;32mE:\\Home\\Giovanni\\Repos\\sgx-devel\\src\\sgx\\fitness\\base.py\u001b[0m in \u001b[0;36mreversed\u001b[1;34m(fitness_class)\u001b[0m\n\u001b[0;32m    111\u001b[0m \u001b[1;32mdef\u001b[0m \u001b[0mreversed\u001b[0m\u001b[1;33m(\u001b[0m\u001b[0mfitness_class\u001b[0m\u001b[1;33m:\u001b[0m \u001b[1;34m'Fitness'\u001b[0m\u001b[1;33m)\u001b[0m \u001b[1;33m->\u001b[0m \u001b[1;34m'Fitness'\u001b[0m\u001b[1;33m:\u001b[0m\u001b[1;33m\u001b[0m\u001b[1;33m\u001b[0m\u001b[0m\n\u001b[0;32m    112\u001b[0m     \u001b[1;34m\"\"\"Reverse fitness class turning a maximization problem into a minimization one\"\"\"\u001b[0m\u001b[1;33m\u001b[0m\u001b[1;33m\u001b[0m\u001b[0m\n\u001b[1;32m--> 113\u001b[1;33m     \u001b[1;32massert\u001b[0m \u001b[0misinstance\u001b[0m\u001b[1;33m(\u001b[0m\u001b[0mfitness_class\u001b[0m\u001b[1;33m,\u001b[0m \u001b[0mtype\u001b[0m\u001b[1;33m)\u001b[0m\u001b[1;33m,\u001b[0m \u001b[1;34mf\"Only <class 'sgx.t.Fitness'> can be reversed. Found an object of type {type(fitness_class)}.\"\u001b[0m\u001b[1;33m\u001b[0m\u001b[1;33m\u001b[0m\u001b[0m\n\u001b[0m\u001b[0;32m    114\u001b[0m     \u001b[1;32massert\u001b[0m \u001b[0missubclass\u001b[0m\u001b[1;33m(\u001b[0m\u001b[0mfitness_class\u001b[0m\u001b[1;33m,\u001b[0m \u001b[0mFitness\u001b[0m\u001b[1;33m)\u001b[0m\u001b[1;33m,\u001b[0m \u001b[1;34mf\"Only <class 'sgx.t.Fitness'> can be reversed. Found {fitness_class}.\"\u001b[0m\u001b[1;33m\u001b[0m\u001b[1;33m\u001b[0m\u001b[0m\n\u001b[0;32m    115\u001b[0m     \u001b[1;32mclass\u001b[0m \u001b[0mr\u001b[0m\u001b[1;33m(\u001b[0m\u001b[0mfitness_class\u001b[0m\u001b[1;33m)\u001b[0m\u001b[1;33m:\u001b[0m\u001b[1;33m\u001b[0m\u001b[1;33m\u001b[0m\u001b[0m\n",
      "\u001b[1;31mAssertionError\u001b[0m: Only <class 'sgx.t.Fitness'> can be reversed. Found an object of type <class 'int'>."
     ]
    }
   ],
   "source": [
    "sgx.fitness.reversed(23)"
   ]
  },
  {
   "cell_type": "code",
   "execution_count": null,
   "metadata": {},
   "outputs": [],
   "source": [
    "sgx.t.Fitness"
   ]
  },
  {
   "cell_type": "code",
   "execution_count": null,
   "metadata": {},
   "outputs": [],
   "source": [
    "object.__class__"
   ]
  },
  {
   "cell_type": "code",
   "execution_count": 8,
   "metadata": {},
   "outputs": [
    {
     "ename": "TypeError",
     "evalue": "object of type 'int' has no len()",
     "output_type": "error",
     "traceback": [
      "\u001b[1;31m---------------------------------------------------------------------------\u001b[0m",
      "\u001b[1;31mTypeError\u001b[0m                                 Traceback (most recent call last)",
      "\u001b[1;32m<ipython-input-8-a43f52d00310>\u001b[0m in \u001b[0;36m<module>\u001b[1;34m\u001b[0m\n\u001b[1;32m----> 1\u001b[1;33m \u001b[0mlen\u001b[0m\u001b[1;33m(\u001b[0m\u001b[1;36m23\u001b[0m\u001b[1;33m)\u001b[0m\u001b[1;33m\u001b[0m\u001b[1;33m\u001b[0m\u001b[0m\n\u001b[0m",
      "\u001b[1;31mTypeError\u001b[0m: object of type 'int' has no len()"
     ]
    }
   ],
   "source": [
    "len(23)"
   ]
  },
  {
   "cell_type": "code",
   "execution_count": null,
   "metadata": {},
   "outputs": [],
   "source": []
  }
 ],
 "metadata": {
  "kernelspec": {
   "display_name": "Python 3",
   "language": "python",
   "name": "python3"
  },
  "language_info": {
   "codemirror_mode": {
    "name": "ipython",
    "version": 3
   },
   "file_extension": ".py",
   "mimetype": "text/x-python",
   "name": "python",
   "nbconvert_exporter": "python",
   "pygments_lexer": "ipython3",
   "version": "3.8.5"
  }
 },
 "nbformat": 4,
 "nbformat_minor": 4
}
