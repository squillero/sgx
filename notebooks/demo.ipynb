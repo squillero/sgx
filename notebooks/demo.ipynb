{
 "cells": [
  {
   "cell_type": "markdown",
   "id": "54a90d7f",
   "metadata": {},
   "source": [
    "```\n",
    "  _________ ____________  ___\n",
    " /   _____//  _____/\\   \\/  /\n",
    " \\_____  \\/   \\  ___ \\     / \n",
    " /        \\    \\_\\  \\/     \\ \n",
    "/_________/\\________/___/\\  \\\n",
    "                          \\_/\n",
    "```\n",
    "\n",
    "**SGX** (the e**X**tended **S**elfish **G**ene): A quick 'n dirty versatile population-less evolutionary optimizer loosely inspired by a cool interpretation of the Darwinian theory. More info at https://github.com/squillero/sgx"
   ]
  },
  {
   "cell_type": "code",
   "execution_count": 1,
   "id": "c9511a55",
   "metadata": {},
   "outputs": [],
   "source": [
    "%config Completer.use_jedi = False"
   ]
  },
  {
   "cell_type": "code",
   "execution_count": 2,
   "id": "f3dd902e",
   "metadata": {
    "scrolled": true
   },
   "outputs": [
    {
     "name": "stderr",
     "output_type": "stream",
     "text": [
      "<ipython-input-2-3b94736f7f64>:1: RuntimeWarning: All debug checks are active, performances are significantly impaired.\n",
      "  import sgx\n"
     ]
    }
   ],
   "source": [
    "import sgx"
   ]
  },
  {
   "cell_type": "code",
   "execution_count": 3,
   "id": "5c9e1868",
   "metadata": {},
   "outputs": [
    {
     "data": {
      "text/plain": [
       "0.6041438196131697"
      ]
     },
     "execution_count": 3,
     "metadata": {},
     "output_type": "execute_result"
    }
   ],
   "source": [
    "sgx.r.random()"
   ]
  },
  {
   "cell_type": "code",
   "execution_count": null,
   "id": "9ba16a9f",
   "metadata": {},
   "outputs": [],
   "source": []
  }
 ],
 "metadata": {
  "kernelspec": {
   "display_name": "Python 3",
   "language": "python",
   "name": "python3"
  },
  "language_info": {
   "codemirror_mode": {
    "name": "ipython",
    "version": 3
   },
   "file_extension": ".py",
   "mimetype": "text/x-python",
   "name": "python",
   "nbconvert_exporter": "python",
   "pygments_lexer": "ipython3",
   "version": "3.8.8"
  }
 },
 "nbformat": 4,
 "nbformat_minor": 5
}
