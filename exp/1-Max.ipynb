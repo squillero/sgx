{
 "cells": [
  {
   "cell_type": "code",
   "execution_count": 1,
   "metadata": {},
   "outputs": [],
   "source": [
    "#############################################################################\n",
    "#   _________ ____________  ___                                             #\n",
    "#  /   _____//  _____/\\   \\/  /  ~~~~~~~~~~~~~~~~~~~~~~~~~~~~~~~~~~~~~~~~~  #\n",
    "#  \\_____  \\/   \\  ___ \\     /   THE E(X)TENDED (S)ELFISH (G)ENE ALGORITHM  #\n",
    "#  /        \\    \\_\\  \\/     \\   ~~~~~~~~~~~~~~~~~~~~~~~~~~~~~~~~~~~~~~~~~  #\n",
    "# /_________/\\________/___/\\  \\  https://github.com/squillero/sgx           #\n",
    "#                           \\_/                                             #\n",
    "#                                                                           #\n",
    "# A quick 'n dirty versatile population-less evolutionary optimizer loosely #\n",
    "# inspired by a cool interpretation of the Darwinian theory.                #\n",
    "#                                                                           #\n",
    "#############################################################################"
   ]
  },
  {
   "cell_type": "code",
   "execution_count": 2,
   "metadata": {},
   "outputs": [
    {
     "data": {
      "text/html": [
       "<style>.container { width:95% !important; }</style>"
      ],
      "text/plain": [
       "<IPython.core.display.HTML object>"
      ]
     },
     "metadata": {},
     "output_type": "display_data"
    }
   ],
   "source": [
    "from IPython.core.display import display, HTML\n",
    "display(HTML(\"<style>.container { width:95% !important; }</style>\"))\n",
    "import sys\n",
    "sys.path += ['../src']\n",
    "import logging\n",
    "logging.basicConfig(format='%(asctime)s %(levelname)s: %(message)s', datefmt='%H:%M:%S')\n",
    "logging.getLogger().setLevel(logging.INFO)"
   ]
  },
  {
   "cell_type": "code",
   "execution_count": 27,
   "metadata": {},
   "outputs": [],
   "source": [
    "from itertools import product\n",
    "import numpy as np\n",
    "import pandas as pd\n",
    "import seaborn as sns\n",
    "from tqdm.notebook import tqdm\n",
    "\n",
    "import sgx"
   ]
  },
  {
   "cell_type": "code",
   "execution_count": 47,
   "metadata": {
    "scrolled": false
   },
   "outputs": [],
   "source": [
    "PROBLEM_SIZE = 50"
   ]
  },
  {
   "cell_type": "code",
   "execution_count": 48,
   "metadata": {},
   "outputs": [
    {
     "data": {
      "application/vnd.jupyter.widget-view+json": {
       "model_id": "",
       "version_major": 2,
       "version_minor": 0
      },
      "text/plain": [
       "HBox(children=(HTML(value=''), FloatProgress(value=1.0, bar_style='info', layout=Layout(width='20px'), max=1.0…"
      ]
     },
     "metadata": {},
     "output_type": "display_data"
    }
   ],
   "source": [
    "genome = sgx.t.Genome([sgx.allele.Categorical(\"01\") for _ in range(PROBLEM_SIZE)])\n",
    "fitness_function = sgx.fitness.FitnessFunction(lambda i: i.count('1'), best_fitness=PROBLEM_SIZE, type_=sgx.fitness.Scalar)\n",
    "species = sgx.t.Species(genome=genome, fitness_function=fitness_function)\n",
    "archive = sgx.algorithms.sg(species, max_generation=None, progress_bar=True)"
   ]
  },
  {
   "cell_type": "code",
   "execution_count": 49,
   "metadata": {},
   "outputs": [
    {
     "data": {
      "text/plain": [
       "[Element(genotype=<sgx.base.Genotype object at 0x00000158ADD83B20>, fitness=50.0, generation=5708)]"
      ]
     },
     "execution_count": 49,
     "metadata": {},
     "output_type": "execute_result"
    }
   ],
   "source": [
    "list(archive)"
   ]
  },
  {
   "cell_type": "code",
   "execution_count": 50,
   "metadata": {},
   "outputs": [
    {
     "data": {
      "application/vnd.jupyter.widget-view+json": {
       "model_id": "a828ce9fd8124dccb2665fa3b853df99",
       "version_major": 2,
       "version_minor": 0
      },
      "text/plain": [
       "HBox(children=(HTML(value=''), FloatProgress(value=0.0, max=10.0), HTML(value='')))"
      ]
     },
     "metadata": {},
     "output_type": "display_data"
    },
    {
     "name": "stdout",
     "output_type": "stream",
     "text": [
      "\n"
     ]
    }
   ],
   "source": [
    "fitness_function = sgx.fitness.FitnessFunction(lambda i: sum(i), best_fitness=PROBLEM_SIZE, type_=sgx.fitness.Scalar)\n",
    "\n",
    "results = pd.DataFrame(columns=['Size', 'Learning Rate', 'Generations'])\n",
    "for lr in tqdm(np.linspace(0.001, 0.1, 10)):\n",
    "    for _ in range(2):\n",
    "        data = {'Size': PROBLEM_SIZE, 'Learning Rate': lr}\n",
    "        genome = sgx.t.Genome([sgx.allele.Boolean() for _ in range(PROBLEM_SIZE)])\n",
    "        species = sgx.t.Species(genome=genome, fitness_function=fitness_function)\n",
    "        archive = sgx.algorithms.sg(species, max_generation=None, progress_bar=False)\n",
    "        \n",
    "        data['Generations'] = archive.items[0].generation\n",
    "        results = results.append(data, ignore_index=True)"
   ]
  },
  {
   "cell_type": "code",
   "execution_count": 51,
   "metadata": {},
   "outputs": [
    {
     "data": {
      "text/plain": [
       "<AxesSubplot:xlabel='Learning Rate', ylabel='Generations'>"
      ]
     },
     "execution_count": 51,
     "metadata": {},
     "output_type": "execute_result"
    },
    {
     "data": {
      "image/png": "[encoded data removed]",
      "text/plain": [
       "<Figure size 432x288 with 1 Axes>"
      ]
     },
     "metadata": {
      "needs_background": "light"
     },
     "output_type": "display_data"
    }
   ],
   "source": [
    "sns.lineplot(data=results, x='Learning Rate', y='Generations')"
   ]
  },
  {
   "cell_type": "code",
   "execution_count": 37,
   "metadata": {},
   "outputs": [
    {
     "data": {
      "text/plain": [
       "<AxesSubplot:>"
      ]
     },
     "execution_count": 37,
     "metadata": {},
     "output_type": "execute_result"
    },
    {
     "data": {
      "image/png": "[encoded data removed]",
      "text/plain": [
       "<Figure size 432x288 with 1 Axes>"
      ]
     },
     "metadata": {
      "needs_background": "light"
     },
     "output_type": "display_data"
    }
   ],
   "source": [
    "MIN = -5\n",
    "MAX = 5\n",
    "POINTS = 200\n",
    "X = np.linspace(MIN, MAX, POINTS)\n",
    "Y = (sgx.allele.Boolean.sigmoid(x, 1) for x in X)\n",
    "sns.lineplot(x=X, y=Y)"
   ]
  },
  {
   "cell_type": "code",
   "execution_count": null,
   "metadata": {},
   "outputs": [],
   "source": []
  }
 ],
 "metadata": {
  "kernelspec": {
   "display_name": "Python 3",
   "language": "python",
   "name": "python3"
  },
  "language_info": {
   "codemirror_mode": {
    "name": "ipython",
    "version": 3
   },
   "file_extension": ".py",
   "mimetype": "text/x-python",
   "name": "python",
   "nbconvert_exporter": "python",
   "pygments_lexer": "ipython3",
   "version": "3.8.5"
  }
 },
 "nbformat": 4,
 "nbformat_minor": 4
}
