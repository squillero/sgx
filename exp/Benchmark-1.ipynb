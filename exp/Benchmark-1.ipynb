{
 "cells": [
  {
   "cell_type": "code",
   "execution_count": 1,
   "metadata": {},
   "outputs": [],
   "source": [
    "#############################################################################\n",
    "#   _________ ____________  ___                                             #\n",
    "#  /   _____//  _____/\\   \\/  /  ~~~~~~~~~~~~~~~~~~~~~~~~~~~~~~~~~~~~~~~~~  #\n",
    "#  \\_____  \\/   \\  ___ \\     /   THE E(X)TENDED (S)ELFISH (G)ENE ALGORITHM  #\n",
    "#  /        \\    \\_\\  \\/     \\   ~~~~~~~~~~~~~~~~~~~~~~~~~~~~~~~~~~~~~~~~~  #\n",
    "# /_________/\\________/___/\\  \\  https://github.com/squillero/sgx           #\n",
    "#                           \\_/                                             #\n",
    "#                                                                           #\n",
    "# A quick 'n dirty versatile population-less evolutionary optimizer loosely #\n",
    "# inspired by a cool interpretation of the Darwinian theory.                #\n",
    "#                                                                           #\n",
    "#############################################################################"
   ]
  },
  {
   "cell_type": "code",
   "execution_count": 2,
   "metadata": {},
   "outputs": [
    {
     "data": {
      "text/html": [
       "<style>.container { width:95% !important; }</style>"
      ],
      "text/plain": [
       "<IPython.core.display.HTML object>"
      ]
     },
     "metadata": {},
     "output_type": "display_data"
    }
   ],
   "source": [
    "from IPython.core.display import display, HTML\n",
    "display(HTML(\"<style>.container { width:95% !important; }</style>\"))\n",
    "import sys\n",
    "sys.path += ['../src']\n",
    "import logging\n",
    "logging.basicConfig(format='%(asctime)s %(levelname)s: %(message)s', datefmt='%H:%M:%S')\n",
    "logging.getLogger().setLevel(logging.INFO)"
   ]
  },
  {
   "cell_type": "code",
   "execution_count": 3,
   "metadata": {},
   "outputs": [
    {
     "name": "stderr",
     "output_type": "stream",
     "text": [
      "<ipython-input-3-20e1ed0d299b>:6: RuntimeWarning: All debug checks are active, performances are significantly impaired.\n",
      "  import sgx\n"
     ]
    }
   ],
   "source": [
    "from itertools import product\n",
    "import pandas as pd\n",
    "import seaborn as sns\n",
    "from tqdm.notebook import tqdm\n",
    "\n",
    "import sgx"
   ]
  },
  {
   "cell_type": "code",
   "execution_count": 4,
   "metadata": {},
   "outputs": [],
   "source": [
    "results = pd.DataFrame(columns=['Size', 'run', 'Generations'])"
   ]
  },
  {
   "cell_type": "code",
   "execution_count": 5,
   "metadata": {
    "scrolled": false
   },
   "outputs": [
    {
     "data": {
      "application/vnd.jupyter.widget-view+json": {
       "model_id": "ba543a35d1c946b7b4d010ca149a0748",
       "version_major": 2,
       "version_minor": 0
      },
      "text/plain": [
       "HBox(children=(HTML(value=''), FloatProgress(value=0.0), HTML(value='')))"
      ]
     },
     "metadata": {},
     "output_type": "display_data"
    },
    {
     "name": "stdout",
     "output_type": "stream",
     "text": [
      "\n"
     ]
    }
   ],
   "source": [
    "for run, problem_size in tqdm(list(product(range(10), range(10, 101, 10)))):\n",
    "    fitness_function = sgx.fitness.FitnessFunction(lambda i: i.count('1'), best_fitness=problem_size, type_=sgx.fitness.Scalar)\n",
    "\n",
    "    genome = sgx.t.Genome([sgx.allele.Categorical(\"01\") for _ in range(problem_size)])\n",
    "    species = sgx.t.Species(genome=genome, fitness_function=fitness_function)\n",
    "    archive = sgx.algorithms.sg(species, max_generation=100000, progress='')\n",
    "    data = {'Size': float(problem_size), 'run': run, 'Generations': float(archive.age)}\n",
    "    results = results.append(data, ignore_index=True)\n",
    "\n",
    "results.sort_values('Size', inplace=True, ignore_index=True)"
   ]
  },
  {
   "cell_type": "code",
   "execution_count": 6,
   "metadata": {},
   "outputs": [
    {
     "data": {
      "text/plain": [
       "<AxesSubplot:xlabel='Size', ylabel='Generations'>"
      ]
     },
     "execution_count": 6,
     "metadata": {},
     "output_type": "execute_result"
    },
    {
     "data": {
      "image/png": "[encoded data removed]",
      "text/plain": [
       "<Figure size 432x288 with 1 Axes>"
      ]
     },
     "metadata": {
      "needs_background": "light"
     },
     "output_type": "display_data"
    }
   ],
   "source": [
    "sns.lineplot(data=results, x='Size', y='Generations')"
   ]
  },
  {
   "cell_type": "code",
   "execution_count": null,
   "metadata": {},
   "outputs": [],
   "source": []
  }
 ],
 "metadata": {
  "kernelspec": {
   "display_name": "Python 3",
   "language": "python",
   "name": "python3"
  },
  "language_info": {
   "codemirror_mode": {
    "name": "ipython",
    "version": 3
   },
   "file_extension": ".py",
   "mimetype": "text/x-python",
   "name": "python",
   "nbconvert_exporter": "python",
   "pygments_lexer": "ipython3",
   "version": "3.8.5"
  }
 },
 "nbformat": 4,
 "nbformat_minor": 4
}
